{
  "nbformat": 4,
  "nbformat_minor": 0,
  "metadata": {
    "kernelspec": {
      "name": "pycharm-fc29d1",
      "language": "python",
      "display_name": "PyCharm (System Dynamics)"
    },
    "language_info": {
      "codemirror_mode": {
        "name": "ipython",
        "version": 2
      },
      "file_extension": ".py",
      "mimetype": "text/x-python",
      "name": "python",
      "nbconvert_exporter": "python",
      "pygments_lexer": "ipython2",
      "version": "2.7.6"
    },
    "colab": {
      "name": "process-test-data.ipynb",
      "provenance": []
    }
  },
  "cells": [
    {
      "cell_type": "code",
      "metadata": {
        "colab": {
          "base_uri": "https://localhost:8080/"
        },
        "id": "FKLVVbMpUyGY",
        "outputId": "fe97f1bc-5a54-428a-afaa-4ac3b0fafd38"
      },
      "source": [
        "!pip install xlrd\n",
        "!pip install openpyxl"
      ],
      "execution_count": null,
      "outputs": [
        {
          "output_type": "stream",
          "text": [
            "Requirement already satisfied: xlrd in /usr/local/lib/python3.7/dist-packages (1.1.0)\n",
            "Requirement already satisfied: openpyxl in /usr/local/lib/python3.7/dist-packages (2.5.9)\n",
            "Requirement already satisfied: et-xmlfile in /usr/local/lib/python3.7/dist-packages (from openpyxl) (1.0.1)\n",
            "Requirement already satisfied: jdcal in /usr/local/lib/python3.7/dist-packages (from openpyxl) (1.4.1)\n"
          ],
          "name": "stdout"
        }
      ]
    },
    {
      "cell_type": "code",
      "metadata": {
        "collapsed": true,
        "colab": {
          "base_uri": "https://localhost:8080/"
        },
        "id": "bHGqB6o_UgGf",
        "outputId": "420e84d7-d3bc-4bd8-d292-4e8ef074ad75"
      },
      "source": [
        "%matplotlib inline\n",
        "import pandas as pd\n",
        "import numpy as np\n",
        "import matplotlib.pyplot as plt\n",
        "from scipy.signal import butter, lfilter\n",
        "\n",
        "trial = 2\n",
        "df = pd.read_excel (r'Polyurethane_Clipped_V2.xlsx', sheet_name='T'+str(trial), engine='openpyxl')\n",
        "print(df)"
      ],
      "execution_count": null,
      "outputs": [
        {
          "output_type": "stream",
          "text": [
            "            t         x         y  ...  Unnamed: 5  Unnamed: 6  Unnamed: 7\n",
            "0    0.000000  0.046705  0.125044  ...         NaN         NaN         NaN\n",
            "1    0.033333  0.051193  0.121246  ...         NaN         NaN         NaN\n",
            "2    0.066667  0.051193  0.120450  ...         NaN         NaN         NaN\n",
            "3    0.100000  0.055607  0.109557  ...         NaN         NaN         NaN\n",
            "4    0.133333  0.055825  0.107738  ...         NaN         NaN         NaN\n",
            "..        ...       ...       ...  ...         ...         ...         ...\n",
            "215       NaN       NaN       NaN  ...         NaN         NaN         NaN\n",
            "216       NaN       NaN       NaN  ...         NaN         NaN         NaN\n",
            "217       NaN       NaN       NaN  ...         NaN         NaN         NaN\n",
            "218       NaN       NaN       NaN  ...         NaN         NaN         NaN\n",
            "219       NaN       NaN       NaN  ...         NaN         NaN         NaN\n",
            "\n",
            "[220 rows x 8 columns]\n"
          ],
          "name": "stdout"
        }
      ]
    },
    {
      "cell_type": "code",
      "metadata": {
        "pycharm": {
          "name": "#%%\n"
        },
        "id": "2AXtdGMbUgGm"
      },
      "source": [
        "t = np.multiply(np.array(df['t']), 0.125)\n",
        "x = np.array(df['x'])\n",
        "y = np.array(df['y'])\n",
        "\n",
        "x_init = float(x[0])\n",
        "y_init = float(y[0])\n",
        "x = np.subtract(x, x_init)\n",
        "y = np.subtract(y, y_init)\n",
        "\n",
        "# Data filter settings\n",
        "fs = 240.0      # sample rate, Hz\n",
        "cutoff = 8.0    # desired cutoff frequency of the filter, Hz, slightly higher than actual 1.2 Hz\n",
        "nyq = 0.5 * fs  # Nyquist Frequency\n",
        "order = 2       # sin wave can be approx represented as quadratic\n",
        "\n",
        "normal_cutoff = cutoff / nyq\n",
        "b, a = butter(order, normal_cutoff, btype='low', analog=False)\n",
        "x = lfilter(b, a, x)\n",
        "y = lfilter(b, a, y)\n",
        "\n",
        "\n",
        "x = np.add(x, x_init)\n",
        "y = np.add(y, y_init)"
      ],
      "execution_count": null,
      "outputs": []
    },
    {
      "cell_type": "code",
      "metadata": {
        "pycharm": {
          "name": "#%%\n"
        },
        "colab": {
          "base_uri": "https://localhost:8080/",
          "height": 282
        },
        "id": "-1W9FWDaUgGm",
        "outputId": "6ad3bf3c-5be4-4a43-816b-36284968317f"
      },
      "source": [
        "disp = np.sqrt(np.square(x) + np.square(y))\n",
        "vel = np.divide(np.sqrt(np.square(x[1:]-x[:-1]) + np.square(y[1:]-y[:-1])), t[1:]-t[:-1])\n",
        "\n",
        "dmin = float(np.min(disp))\n",
        "dmint = float(t[np.argmin(disp)])\n",
        "\n",
        "plt.plot(t, disp)\n",
        "plt.plot(t[1:], vel)\n",
        "plt.scatter(dmint, dmin)"
      ],
      "execution_count": null,
      "outputs": [
        {
          "output_type": "execute_result",
          "data": {
            "text/plain": [
              "<matplotlib.collections.PathCollection at 0x7f933315a190>"
            ]
          },
          "metadata": {
            "tags": []
          },
          "execution_count": 3
        },
        {
          "output_type": "display_data",
          "data": {
            "image/png": "[encoded data removed]",
            "text/plain": [
              "<Figure size 432x288 with 1 Axes>"
            ]
          },
          "metadata": {
            "tags": [],
            "needs_background": "light"
          }
        }
      ]
    },
    {
      "cell_type": "code",
      "metadata": {
        "pycharm": {
          "name": "#%%\n"
        },
        "colab": {
          "base_uri": "https://localhost:8080/",
          "height": 282
        },
        "id": "Qd1TNwJnUgGn",
        "outputId": "16866de4-04be-4dbc-8fac-37b762148eec"
      },
      "source": [
        "acc = np.abs(np.divide(vel[1:]-vel[:-1], t[2:]-t[1:-1]))\n",
        "amax = float(np.max(acc))\n",
        "amaxt = float(t[2:][np.argmax(acc)])\n",
        "\n",
        "plt.plot(t[2:], acc)\n",
        "plt.scatter(amaxt, amax)"
      ],
      "execution_count": null,
      "outputs": [
        {
          "output_type": "execute_result",
          "data": {
            "text/plain": [
              "<matplotlib.collections.PathCollection at 0x7f9332bc47d0>"
            ]
          },
          "metadata": {
            "tags": []
          },
          "execution_count": 4
        },
        {
          "output_type": "display_data",
          "data": {
            "image/png": "[encoded data removed]",
            "text/plain": [
              "<Figure size 432x288 with 1 Axes>"
            ]
          },
          "metadata": {
            "tags": [],
            "needs_background": "light"
          }
        }
      ]
    },
    {
      "cell_type": "code",
      "metadata": {
        "pycharm": {
          "name": "#%%\n"
        },
        "colab": {
          "base_uri": "https://localhost:8080/",
          "height": 282
        },
        "id": "jc5O56imUgGo",
        "outputId": "92e2b553-e13c-4be2-c056-f597b18d2fe2"
      },
      "source": [
        "peaks = []\n",
        "for i in range(2, len(vel)):\n",
        "    if np.sign(vel[i] - vel[i-1]) != np.sign(vel[i-1] - vel[i-2]) and t[1:][i] > dmint:\n",
        "        peaks.append(i-1)\n",
        "\n",
        "plt.plot(t, disp)\n",
        "plt.scatter(t[peaks], disp[peaks])"
      ],
      "execution_count": null,
      "outputs": [
        {
          "output_type": "execute_result",
          "data": {
            "text/plain": [
              "<matplotlib.collections.PathCollection at 0x7f9332b7e090>"
            ]
          },
          "metadata": {
            "tags": []
          },
          "execution_count": 5
        },
        {
          "output_type": "display_data",
          "data": {
            "image/png": "[encoded data removed]",
            "text/plain": [
              "<Figure size 432x288 with 1 Axes>"
            ]
          },
          "metadata": {
            "tags": [],
            "needs_background": "light"
          }
        }
      ]
    },
    {
      "cell_type": "code",
      "metadata": {
        "pycharm": {
          "name": "#%%\n"
        },
        "colab": {
          "base_uri": "https://localhost:8080/",
          "height": 333
        },
        "id": "TT63S85gUgGo",
        "outputId": "760fd32b-731a-451a-9ce9-fdb04d35cb81"
      },
      "source": [
        "t1 = amaxt\n",
        "try:\n",
        "    t2 = t[peaks[-1]]\n",
        "    a1 = np.abs(disp[peaks[1]] - disp[peaks[0]])\n",
        "    a2 = np.abs(disp[peaks[-1]] - disp[peaks[-2]])\n",
        "    for i in range(2, len(peaks)):\n",
        "        t2 = t[peaks[i]]\n",
        "        a2 = np.abs(disp[peaks[i]] - disp[peaks[i-1]])\n",
        "        if a2 < (0.05 * a1):\n",
        "            break\n",
        "    if a2 < (0.05 * a1):\n",
        "        st = t2 - t1\n",
        "    else:\n",
        "        raise IndexError\n",
        "except IndexError:\n",
        "    st = t[-1] - t1\n",
        "    print('system did not settle')\n",
        "\n",
        "print('amax: ' + str(amax))\n",
        "print('st: ' + str(st))\n",
        "\n",
        "plt.plot(t, disp)\n",
        "plt.scatter(t[peaks], disp[peaks])\n",
        "plt.vlines([t1, t1+st], np.min(disp), np.max(disp))"
      ],
      "execution_count": null,
      "outputs": [
        {
          "output_type": "stream",
          "text": [
            "system did not settle\n",
            "amax: nan\n",
            "st: nan\n"
          ],
          "name": "stdout"
        },
        {
          "output_type": "execute_result",
          "data": {
            "text/plain": [
              "<matplotlib.collections.LineCollection at 0x7f9333111350>"
            ]
          },
          "metadata": {
            "tags": []
          },
          "execution_count": 6
        },
        {
          "output_type": "display_data",
          "data": {
            "image/png": "[encoded data removed]",
            "text/plain": [
              "<Figure size 432x288 with 1 Axes>"
            ]
          },
          "metadata": {
            "tags": [],
            "needs_background": "light"
          }
        }
      ]
    },
    {
      "cell_type": "code",
      "metadata": {
        "pycharm": {
          "name": "#%%\n"
        },
        "id": "F2t92OwGUgGo"
      },
      "source": [
        ""
      ],
      "execution_count": null,
      "outputs": []
    }
  ]
}