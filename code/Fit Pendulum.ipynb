{
 "cells": [
  {
   "cell_type": "markdown",
   "metadata": {},
   "source": [
    "# Fitting Pendulum for Spring and Damping Constant\n",
    "Fuchen Chen \n",
    "2021/03/16"
   ]
  },
  {
   "cell_type": "code",
   "execution_count": 122,
   "metadata": {},
   "outputs": [],
   "source": [
    "%matplotlib inline\n",
    "\n",
    "import pynamics\n",
    "from pynamics.frame import Frame\n",
    "from pynamics.variable_types import Differentiable,Constant\n",
    "from pynamics.system import System\n",
    "from pynamics.constraint import Constraint\n",
    "from pynamics.dyadic import Dyadic\n",
    "from pynamics.output import PointsOutput\n",
    "from pynamics.particle import Particle\n",
    "from pynamics.body import Body\n",
    "import pynamics.integration\n",
    "\n",
    "import sympy\n",
    "import numpy as np\n",
    "import scipy.optimize\n",
    "import matplotlib.pyplot as plt\n",
    "from math import pi\n",
    "\n",
    "from IPython.display import display, clear_output\n",
    "import time\n",
    "import csv\n",
    "import logging"
   ]
  },
  {
   "cell_type": "code",
   "execution_count": 123,
   "metadata": {},
   "outputs": [],
   "source": [
    "DEG_TO_RAD = pi/180\n",
    "\n",
    "# Unit scaling\n",
    "M_TO_L = 1e3 # mm\n",
    "KG_TO_W = 1e3 # g\n",
    "S_TO_T = 1e0 # 1s"
   ]
  },
  {
   "cell_type": "markdown",
   "metadata": {},
   "source": [
    "## Experiment\n",
    "Two links are 3D printed to sandwich the flexible material and form a single pendulum. Markers are painted on the side of the link for tracking. It is then fixed onto a box and one end is released from about horizontal location. The motion is captured using iPhone 6s 240fps slow motion mode. A screenshot of the captured video is shown below. Tracker is then used to extract the motion data from the video. The y axis is point upward and x axis pointing right along the upper edge of the box."
   ]
  },
  {
   "cell_type": "code",
   "execution_count": 124,
   "metadata": {},
   "outputs": [
    {
     "name": "stdout",
     "output_type": "stream",
     "text": [
      "Minimum angle in degrees -123.29512038879535\n"
     ]
    },
    {
     "data": {
      "text/plain": [
       "<matplotlib.legend.Legend at 0x279ed271370>"
      ]
     },
     "execution_count": 124,
     "metadata": {},
     "output_type": "execute_result"
    },
    {
     "data": {
      "image/png": "[encoded data removed]",
      "text/plain": [
       "<Figure size 432x288 with 1 Axes>"
      ]
     },
     "metadata": {
      "needs_background": "light"
     },
     "output_type": "display_data"
    }
   ],
   "source": [
    "# Experimental Data\n",
    "t_exp = []\n",
    "x_exp = []\n",
    "y_exp = []\n",
    "with open('polyurethane foam left.csv', newline='') as data_file:\n",
    "    reader = csv.reader(data_file)\n",
    "    for i, row in enumerate(reader):\n",
    "        if i < 2: continue\n",
    "            \n",
    "        t_exp.append(float(row[0]))\n",
    "        x_exp.append(float(row[1]))\n",
    "        y_exp.append(float(row[2]))\n",
    "\n",
    "# Fit a smaller range because the final robot joint will not have a big range of motion. \n",
    "i_start = 32 \n",
    "t_exp = np.array(t_exp)[i_start:]\n",
    "t_exp = t_exp-np.amin(t_exp)\n",
    "x_exp = np.array(x_exp)[i_start:]\n",
    "y_exp = np.array(y_exp)[i_start:]\n",
    "theta_exp = np.arctan2(y_exp, x_exp)\n",
    "print('Minimum angle in degrees', np.amin(theta_exp)/DEG_TO_RAD)\n",
    "\n",
    "plt.figure()\n",
    "plt.plot(t_exp, theta_exp, label='exp')\n",
    "plt.xlabel('t[s]')\n",
    "plt.ylabel('theta[rad]')\n",
    "plt.legend()    "
   ]
  },
  {
   "cell_type": "markdown",
   "metadata": {},
   "source": [
    "## Simulation\n",
    "The model of the experiment is simulated in pynamics. There are only two unknowns for the model, damping and spring constants. Some arbitary values are chosen first to validate the correctness of the simulation and also served as the inital guesses for the optimization. As shown in the figure below, the experiment and simulation motion are similar. To be noted, the simulation initial angle are set to the experiment value and velocity is assumed zero. The spring resting angle is set to the final angle of the link. For joint made of polyurethane foam, the link can not return to the flat state(-90 degrees) with only gravity within 30 seconds after release. It does become flat if an external force is exerted. This behavior might be related to the properties of this specific material. \n",
    "![setup](./data/experiment-setup.jpg)"
   ]
  },
  {
   "cell_type": "code",
   "execution_count": 131,
   "metadata": {},
   "outputs": [],
   "source": [
    "# Simulation values\n",
    "fps = 200\n",
    "tfinal = t_exp[-1]*S_TO_T # Same duration as experiment\n",
    "tol = 1e-9\n",
    "\n",
    "q_i = np.arctan2(y_exp[0],x_exp[0]) # Initial value from experiment\n",
    "# q_k = -90*DEG_TO_RAD \n",
    "q_k = np.arctan2(y_exp[-1],x_exp[-1]) # spring rest angle from experiment\n",
    "\n",
    "mass = 0.0025*KG_TO_W\n",
    "\n",
    "mass_offset = 0.003*M_TO_L\n",
    "length = 0.02*M_TO_L\n",
    "width = 0.035*M_TO_L\n",
    "thickness = 0.0045*M_TO_L\n",
    "\n",
    "gravity = 9.81*M_TO_L/S_TO_T**2  # Gravity m/s^2\n",
    "\n",
    "damping = 1e-5*KG_TO_W*M_TO_L**2/S_TO_T # angular damping, kg*m/s^2*m/(rad/s)\n",
    "spring = 5e-4*KG_TO_W*M_TO_L**2/S_TO_T**2 # angular spring constant, kg*m/s^2*m/rad"
   ]
  },
  {
   "cell_type": "code",
   "execution_count": 132,
   "metadata": {},
   "outputs": [],
   "source": [
    "system = System()\n",
    "pynamics.set_system(__name__,system)\n",
    "\n",
    "# Constants\n",
    "l = Constant(length,'l',system)\n",
    "lm = Constant(length/2+mass_offset,'lm',system)\n",
    "m = Constant(mass,'m',system)\n",
    "\n",
    "g = Constant(gravity,'g',system)\n",
    "\n",
    "b = Constant(damping,'b',system)\n",
    "k = Constant(spring,'k',system)\n",
    "\n",
    "# Variables\n",
    "q,q_d,q_dd = Differentiable('q',system)\n",
    "\n",
    "state_variables = system.get_state_variables()\n",
    "\n",
    "# Frames\n",
    "N = Frame('N')\n",
    "A = Frame('A')\n",
    "\n",
    "system.set_newtonian(N)"
   ]
  },
  {
   "cell_type": "code",
   "execution_count": 133,
   "metadata": {},
   "outputs": [],
   "source": [
    "# Kinemactics\n",
    "A.rotate_fixed_axis_directed(N,[0,0,1],q,system)\n",
    "\n",
    "pNA = 0*N.x+0*N.y # Joint\n",
    "pNB = pNA+l*A.x # Marker\n",
    "\n",
    "pm = pNA+lm*A.x # Center of mass"
   ]
  },
  {
   "cell_type": "code",
   "execution_count": 134,
   "metadata": {},
   "outputs": [],
   "source": [
    "# Dynamics\n",
    "Ixx = Constant(mass*(width**2+thickness**2)/12, 'Ixx', system)\n",
    "Iyy = Constant(mass*(length**2+width**2)/12, 'Iyy', system)\n",
    "Izz = Constant(mass*(length**2+thickness**2)/12, 'Izz', system)\n",
    "I = Dyadic.build(A,Ixx,Iyy,Izz)\n",
    "Link = Body('Link',A,pm,m,I,system)\n",
    "\n",
    "# Spring and damping force\n",
    "NwA = N.getw_(A)\n",
    "system.addforce(-b*NwA,NwA)\n",
    "system.add_spring_force1(k,(q-q_k)*N.z,NwA)\n",
    "\n",
    "# Gravity\n",
    "system.addforcegravity(-g*N.y)"
   ]
  },
  {
   "cell_type": "code",
   "execution_count": 129,
   "metadata": {},
   "outputs": [],
   "source": [
    "# Simulation\n",
    "t_sim = np.linspace(0,tfinal,int(tfinal/(1/fps)))\n",
    "states_init = [q_i, 0]\n",
    "x0 = np.array([damping,spring])\n",
    "\n",
    "def sim(x):\n",
    "    # Use provided spring and damping coeff\n",
    "    cs = system.constant_values.copy()\n",
    "    cs[b] = x[0]\n",
    "    cs[k] = x[1]\n",
    "    \n",
    "    # Run simulation\n",
    "    f,ma = system.getdynamics()\n",
    "    f_s, f_c = system.state_space_post_invert(f,ma,[],return_lambda=True)\n",
    "    states = pynamics.integration.integrate(f_s,states_init,t_sim,rtol=tol,atol=tol, args=({'constants':cs},))\n",
    "\n",
    "    points_output = PointsOutput([pNA,pNB],system)\n",
    "    outputs = points_output.calc(states)    \n",
    "    outputs_shaped = outputs.reshape((outputs.shape[0],-1)) # [[Ax, Ay, Bx, By]...]\n",
    "    \n",
    "    x_sim = outputs_shaped[:,2]\n",
    "    y_sim = outputs_shaped[:,3]\n",
    "    theta_sim = np.arctan2(y_sim, x_sim)\n",
    "\n",
    "    return x_sim, y_sim, theta_sim, outputs\n",
    "\n",
    "# Plot \n",
    "def plot(x_sim, y_sim, theta_sim):\n",
    "    plt.figure()\n",
    "    plt.plot(t_sim, theta_sim, label='sim')\n",
    "    plt.plot(t_exp, theta_exp, label='exp')\n",
    "    plt.xlabel('t[s]')\n",
    "    plt.ylabel('theta[rad]')\n",
    "    plt.legend()    \n",
    "    \n",
    "#     plt.figure()\n",
    "#     plt.plot(t_sim, x_sim, label='sim')\n",
    "#     plt.plot(t_exp, x_exp, label='exp')\n",
    "#     plt.xlabel('t[s]')\n",
    "#     plt.ylabel('x[mm]')\n",
    "#     plt.legend()\n",
    "\n",
    "#     plt.figure()\n",
    "#     plt.plot(t_sim, y_sim, label='sim')\n",
    "#     plt.plot(t_exp, y_exp, label='exp')\n",
    "#     plt.xlabel('t[s]')\n",
    "#     plt.ylabel('y[mm]')\n",
    "#     plt.legend()\n",
    "#     plt.show()"
   ]
  },
  {
   "cell_type": "code",
   "execution_count": 130,
   "metadata": {},
   "outputs": [
    {
     "data": {
      "image/png": "[encoded data removed]",
      "text/plain": [
       "<Figure size 432x288 with 1 Axes>"
      ]
     },
     "metadata": {
      "needs_background": "light"
     },
     "output_type": "display_data"
    }
   ],
   "source": [
    "x_sim, y_sim, theta_sim, outputs = sim(x0)\n",
    "plot(x_sim, y_sim, theta_sim)"
   ]
  },
  {
   "cell_type": "markdown",
   "metadata": {},
   "source": [
    "## Optimization\n",
    "To find the spring and damping constants that match the experiment the best, an objetive function is formulated. A scaling factor is used to improve the numerical perfromance. After optimization, the damping constant found is 8e-6 kg*m/s^2*m/(rad/s). The spring constant is 1e-3 kg*m/s^2*m/rad. As shown in the figure below, these values can only match the first two cycles reasonably well. The latter discrepancy may be caused by the fact that such joint made of polyurethane foam does not have a constant damping and spring coefficients. There can also exist some other material properties that are not modelled here. "
   ]
  },
  {
   "cell_type": "code",
   "execution_count": 136,
   "metadata": {},
   "outputs": [],
   "source": [
    "scaling = 1e4\n",
    "\n",
    "# Optimize\n",
    "def obj(x):\n",
    "    x_sim, y_sim, theta_sim, outputs = sim(x*scaling)\n",
    "    \n",
    "    theta_sim = np.interp(t_exp,t_sim,theta_sim)\n",
    "    \n",
    "    error = np.average((theta_sim-theta_exp)**2)**0.5\n",
    "\n",
    "    return error\n",
    "\n",
    "x0_scaled = x0/scaling\n",
    "# print(x0_scaled, obj(x0_scaled))"
   ]
  },
  {
   "cell_type": "code",
   "execution_count": 137,
   "metadata": {},
   "outputs": [
    {
     "name": "stdout",
     "output_type": "stream",
     "text": [
      "differential_evolution step 1: f(x)= 0.0388828\n",
      "differential_evolution step 2: f(x)= 0.034593\n",
      "differential_evolution step 3: f(x)= 0.0345281\n",
      "differential_evolution step 4: f(x)= 0.0334027\n",
      "differential_evolution step 5: f(x)= 0.0334027\n",
      "differential_evolution step 6: f(x)= 0.0297731\n",
      "differential_evolution step 7: f(x)= 0.0297731\n",
      "differential_evolution step 8: f(x)= 0.0297731\n",
      "differential_evolution step 9: f(x)= 0.0297731\n",
      "differential_evolution step 10: f(x)= 0.0297731\n",
      "differential_evolution step 11: f(x)= 0.0297457\n",
      "differential_evolution step 12: f(x)= 0.0297457\n",
      "differential_evolution step 13: f(x)= 0.0297457\n",
      "differential_evolution step 14: f(x)= 0.0297457\n",
      "     fun: 0.029745674956461056\n",
      "     jac: array([ 0.03510259, -0.01221988])\n",
      " message: 'Optimization terminated successfully.'\n",
      "    nfev: 477\n",
      "     nit: 14\n",
      " success: True\n",
      "       x: array([ 0.82318384, 99.3088216 ])\n"
     ]
    }
   ],
   "source": [
    "logger = logging.getLogger() # Disable logging\n",
    "logging.disable(logging.CRITICAL)\n",
    "\n",
    "res = scipy.optimize.differential_evolution(\n",
    "    obj,\n",
    "    [\n",
    "        (x0_scaled[0]/10,x0_scaled[0]*10), # Range\n",
    "        (x0_scaled[1]/10,x0_scaled[1]*10),\n",
    "    ],\n",
    "    disp=True\n",
    ")\n",
    "print(res)\n",
    "xopt_scaled = res.x"
   ]
  },
  {
   "cell_type": "code",
   "execution_count": 138,
   "metadata": {},
   "outputs": [
    {
     "data": {
      "image/png": "[encoded data removed]",
      "text/plain": [
       "<Figure size 432x288 with 1 Axes>"
      ]
     },
     "metadata": {
      "needs_background": "light"
     },
     "output_type": "display_data"
    }
   ],
   "source": [
    "xopt = xopt_scaled*scaling\n",
    "x_sim, y_sim, theta_sim, outputs = sim(xopt)\n",
    "plot(x_sim, y_sim, theta_sim)\n",
    "# print(x0, xopt)"
   ]
  },
  {
   "cell_type": "code",
   "execution_count": 114,
   "metadata": {},
   "outputs": [],
   "source": [
    "# # Animate\n",
    "# fig = plt.figure()\n",
    "# for pts in outputs:\n",
    "#     plt.cla()\n",
    "    \n",
    "#     plt.plot(pts[:,0],pts[:,1])\n",
    "#     plt.axis('scaled')\n",
    "#     plt.xlim(-0.02*M_TO_L,0.02*M_TO_L)\n",
    "#     plt.ylim(-0.03*M_TO_L,0.0*M_TO_L)   \n",
    "    \n",
    "#     display(fig)\n",
    "#     clear_output(wait=True)\n",
    "# #     time.sleep(1/fps)   "
   ]
  },
  {
   "cell_type": "code",
   "execution_count": 139,
   "metadata": {},
   "outputs": [
    {
     "name": "stdout",
     "output_type": "stream",
     "text": [
      "Damping constant 8.231838442707815e-06\n",
      "Spring constant 0.000993088216017184\n"
     ]
    }
   ],
   "source": [
    "damping_opt = xopt[0]/KG_TO_W/M_TO_L**2*S_TO_T\n",
    "spring_opt = xopt[1]/KG_TO_W/M_TO_L**2*S_TO_T**2\n",
    "print('Damping constant', damping_opt)\n",
    "print('Spring constant', spring_opt)"
   ]
  }
 ],
 "metadata": {
  "kernelspec": {
   "display_name": "Python 3",
   "language": "python",
   "name": "python3"
  },
  "language_info": {
   "codemirror_mode": {
    "name": "ipython",
    "version": 3
   },
   "file_extension": ".py",
   "mimetype": "text/x-python",
   "name": "python",
   "nbconvert_exporter": "python",
   "pygments_lexer": "ipython3",
   "version": "3.8.5"
  }
 },
 "nbformat": 4,
 "nbformat_minor": 4
}
