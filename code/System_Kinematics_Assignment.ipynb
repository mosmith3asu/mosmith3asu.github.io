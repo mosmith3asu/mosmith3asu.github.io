{
  "nbformat": 4,
  "nbformat_minor": 0,
  "metadata": {
    "colab": {
      "name": "System Kinematics Assignment.ipynb",
      "provenance": [],
      "authorship_tag": "ABX9TyMx6XdnC5/9r8epDaPzOpiG",
      "include_colab_link": true
    },
    "kernelspec": {
      "name": "python3",
      "display_name": "Python 3"
    }
  },
  "cells": [
    {
      "cell_type": "markdown",
      "metadata": {
        "id": "view-in-github",
        "colab_type": "text"
      },
      "source": [
        "<a href=\"https://colab.research.google.com/github/mosmith3asu/mosmith3asu.github.io/blob/main/code/System_Kinematics_Assignment.ipynb\" target=\"_parent\"><img src=\"https://colab.research.google.com/assets/colab-badge.svg\" alt=\"Open In Colab\"/></a>"
      ]
    },
    {
      "cell_type": "markdown",
      "metadata": {
        "id": "cC80mja0Miwu"
      },
      "source": [
        "# **System Kinematics Assignment**\r\n",
        "## EGR 557 - Team 6 "
      ]
    },
    {
      "cell_type": "markdown",
      "metadata": {
        "id": "uvVkyvnbOf6e"
      },
      "source": [
        "## Team Members\r\n",
        "Cole Brauer @ cbrauer@asu.edu\\\r\n",
        "Fuchen Chen @ fchen65@asu.edu\\\r\n",
        "Nathaniel Rossi @ ntrossi@asu.edu\\\r\n",
        "Mason Smith @ mosmith3@asu.edu"
      ]
    },
    {
      "cell_type": "markdown",
      "metadata": {
        "id": "E9ALRPXVMD8b"
      },
      "source": [
        "## Resources\r\n",
        "[Triple Pendulum Example](https://egr557.github.io/modules/dynamics/generated/08-triple-pendulum-example/08-triple-pendulum-example.html)\\\r\n",
        "[EGR557 Kinematics Module](https://egr557.github.io/modules/kinematics/)\\\r\n",
        "[EGR557 Dynamics Module](https://egr557.github.io/modules/dynamics/)\\\r\n",
        "[pynamics repository](https://egr557.github.io/modules/kinematics/generated/vectors-example.html)\r\n"
      ]
    },
    {
      "cell_type": "markdown",
      "metadata": {
        "id": "orgnCjXVNUH4"
      },
      "source": [
        "# **Install Dependencies**\r\n",
        "*(if not installed by default)*"
      ]
    },
    {
      "cell_type": "code",
      "metadata": {
        "colab": {
          "base_uri": "https://localhost:8080/"
        },
        "id": "4kobTP9tOM6w",
        "outputId": "daf3029f-c35f-4179-e2e0-98054e392101"
      },
      "source": [
        "!pip install pypoly2tri idealab_tools foldable_robotics pynamics"
      ],
      "execution_count": null,
      "outputs": [
        {
          "output_type": "stream",
          "text": [
            "Requirement already satisfied: pypoly2tri in /usr/local/lib/python3.6/dist-packages (0.0.3)\n",
            "Requirement already satisfied: idealab_tools in /usr/local/lib/python3.6/dist-packages (0.0.22)\n",
            "Requirement already satisfied: foldable_robotics in /usr/local/lib/python3.6/dist-packages (0.0.29)\n",
            "Requirement already satisfied: pynamics in /usr/local/lib/python3.6/dist-packages (0.0.7)\n",
            "Requirement already satisfied: imageio in /usr/local/lib/python3.6/dist-packages (from idealab_tools) (2.4.1)\n",
            "Requirement already satisfied: ezdxf in /usr/local/lib/python3.6/dist-packages (from foldable_robotics) (0.15.1)\n",
            "Requirement already satisfied: pyyaml in /usr/local/lib/python3.6/dist-packages (from foldable_robotics) (3.13)\n",
            "Requirement already satisfied: matplotlib in /usr/local/lib/python3.6/dist-packages (from foldable_robotics) (3.2.2)\n",
            "Requirement already satisfied: numpy in /usr/local/lib/python3.6/dist-packages (from foldable_robotics) (1.19.5)\n",
            "Requirement already satisfied: shapely in /usr/local/lib/python3.6/dist-packages (from foldable_robotics) (1.7.1)\n",
            "Requirement already satisfied: sympy in /usr/local/lib/python3.6/dist-packages (from pynamics) (1.1.1)\n",
            "Requirement already satisfied: scipy in /usr/local/lib/python3.6/dist-packages (from pynamics) (1.4.1)\n",
            "Requirement already satisfied: pillow in /usr/local/lib/python3.6/dist-packages (from imageio->idealab_tools) (7.0.0)\n",
            "Requirement already satisfied: pyparsing>=2.0.1 in /usr/local/lib/python3.6/dist-packages (from ezdxf->foldable_robotics) (2.4.7)\n",
            "Requirement already satisfied: kiwisolver>=1.0.1 in /usr/local/lib/python3.6/dist-packages (from matplotlib->foldable_robotics) (1.3.1)\n",
            "Requirement already satisfied: cycler>=0.10 in /usr/local/lib/python3.6/dist-packages (from matplotlib->foldable_robotics) (0.10.0)\n",
            "Requirement already satisfied: python-dateutil>=2.1 in /usr/local/lib/python3.6/dist-packages (from matplotlib->foldable_robotics) (2.8.1)\n",
            "Requirement already satisfied: mpmath>=0.19 in /usr/local/lib/python3.6/dist-packages (from sympy->pynamics) (1.1.0)\n",
            "Requirement already satisfied: six in /usr/local/lib/python3.6/dist-packages (from cycler>=0.10->matplotlib->foldable_robotics) (1.15.0)\n"
          ],
          "name": "stdout"
        }
      ]
    },
    {
      "cell_type": "markdown",
      "metadata": {
        "id": "mRFSObuPOr7w"
      },
      "source": [
        "# **Import Packages**"
      ]
    },
    {
      "cell_type": "code",
      "metadata": {
        "id": "sfwcmWI3NTXi"
      },
      "source": [
        "import matplotlib.pyplot as plt\r\n",
        "import numpy as np\r\n",
        "from numpy.linalg import norm,inv\r\n",
        "\r\n",
        "import pynamics\r\n",
        "from pynamics.system import System\r\n",
        "from pynamics.frame import Frame\r\n",
        "import scipy.optimize"
      ],
      "execution_count": null,
      "outputs": []
    },
    {
      "cell_type": "markdown",
      "metadata": {
        "id": "aZS972gaPWDK"
      },
      "source": [
        "# **Assignment**"
      ]
    },
    {
      "cell_type": "markdown",
      "metadata": {
        "id": "fkbnjlQBNHbo"
      },
      "source": [
        "### **1. Create a figure (either in python, in a vector-based drawing program like inkscape or illustrator, or as a solidworks rendering) of your system kinematics. Annotate the image to include:...**"
      ]
    },
    {
      "cell_type": "markdown",
      "metadata": {
        "id": "n-r1g9alRbjB"
      },
      "source": [
        "*Insert image*"
      ]
    },
    {
      "cell_type": "markdown",
      "metadata": {
        "id": "L9aAqzQ0QiUv"
      },
      "source": [
        "### **2. Make the device in paper or cardboard. You need an up-to-date model if it has changed from your individual assignments. The paper model should dimensionally match your code.**"
      ]
    },
    {
      "cell_type": "markdown",
      "metadata": {
        "id": "czMbMIeoRhyF"
      },
      "source": [
        "*Insert image*"
      ]
    },
    {
      "cell_type": "markdown",
      "metadata": {
        "id": "p2t0oe8bQh83"
      },
      "source": [
        " ### **3. Using a pynamics-based script, develop a kinematic model for your device. Following the triple pendulum example...**\r\n",
        "\r\n",
        "..."
      ]
    },
    {
      "cell_type": "code",
      "metadata": {
        "id": "-xWCl-YmR0xz"
      },
      "source": [
        "# insert code"
      ],
      "execution_count": null,
      "outputs": []
    },
    {
      "cell_type": "markdown",
      "metadata": {
        "id": "7FgwFw5mQpcV"
      },
      "source": [
        "### **4. Select or Solve for a valid initial condition that represents the system in the middle of a typical gait, when it is both moving and when forces are being applied to it (or to the world by it)**\r\n",
        "Despite the fact that you will be using a symbolic representation, you still need to solve for a valid initial condition if your device is a “parallel mechanism.” This may be done using a nonlinear solver such as scipy.optimize.minimize"
      ]
    },
    {
      "cell_type": "code",
      "metadata": {
        "id": "dxNmDspXR2xf"
      },
      "source": [
        "# insert code"
      ],
      "execution_count": null,
      "outputs": []
    },
    {
      "cell_type": "markdown",
      "metadata": {
        "id": "mj3KMESIQpZc"
      },
      "source": [
        "### **5. Plot the system in this position.**"
      ]
    },
    {
      "cell_type": "code",
      "metadata": {
        "id": "7UrCAflDR3i6"
      },
      "source": [
        "# insert code"
      ],
      "execution_count": null,
      "outputs": []
    },
    {
      "cell_type": "markdown",
      "metadata": {
        "id": "o8OmX5vkQpWh"
      },
      "source": [
        "### **6. From your biomechanics-based specifications, define one or more force vector estimates (one for each end effector) that the system should be expected to experience. Consider including, based on your research**"
      ]
    },
    {
      "cell_type": "code",
      "metadata": {
        "id": "shrYiZTTR4MQ"
      },
      "source": [
        "# insert code"
      ],
      "execution_count": null,
      "outputs": []
    },
    {
      "cell_type": "markdown",
      "metadata": {
        "id": "Mx_NA30wQpGh"
      },
      "source": [
        "### **7. Calculate the force or torque required at the input to satisfy the end-effector force requirements**"
      ]
    },
    {
      "cell_type": "code",
      "metadata": {
        "id": "Qnw86P6HR46k"
      },
      "source": [
        "# insert code"
      ],
      "execution_count": null,
      "outputs": []
    },
    {
      "cell_type": "markdown",
      "metadata": {
        "id": "VKVjvFvwQ2vk"
      },
      "source": [
        "### **8. Estimate the velocity of the end-effector in this configuration. Using the Jacobian, calculate the speed required by the input(s) to achieve that output motion.**\r\n",
        "\r\n",
        "*This may not be directly solvable based on your device kinematics; an iterative guess-and-check approach is ok*"
      ]
    },
    {
      "cell_type": "code",
      "metadata": {
        "id": "oeBypyffR5wa"
      },
      "source": [
        "# insert code"
      ],
      "execution_count": null,
      "outputs": []
    },
    {
      "cell_type": "markdown",
      "metadata": {
        "id": "V9MfzjVAQ2s1"
      },
      "source": [
        "### **9. Finally, using the two estimates about force and speed at the input, compute the required power in this configuration.**"
      ]
    },
    {
      "cell_type": "code",
      "metadata": {
        "id": "89tnSFXfR6tR"
      },
      "source": [
        "# insert code"
      ],
      "execution_count": null,
      "outputs": []
    },
    {
      "cell_type": "markdown",
      "metadata": {
        "id": "FG2JCmu4Q2qE"
      },
      "source": [
        ""
      ]
    },
    {
      "cell_type": "markdown",
      "metadata": {
        "id": "KHYsJgEeP24J"
      },
      "source": [
        "# **Discussion**"
      ]
    },
    {
      "cell_type": "markdown",
      "metadata": {
        "id": "8rrP3W81P2rD"
      },
      "source": [
        "**1. How many degrees of freedom does your device have? How many motors? If the answer is not the same, what determines the state of the remaining degrees of freedom? How did you arrive at that number?**"
      ]
    },
    {
      "cell_type": "markdown",
      "metadata": {
        "id": "e_w8UWqIQPqS"
      },
      "source": [
        ""
      ]
    },
    {
      "cell_type": "markdown",
      "metadata": {
        "id": "fsNtVJeDQCsw"
      },
      "source": [
        "**2. If your mechanism has more than one degree of freedom, please describe how those multiple degrees of freedom will work togehter to create a locomotory gait or useful motion. What is your plan for synchonizing, especially if passive energy storage?**\r\n"
      ]
    },
    {
      "cell_type": "markdown",
      "metadata": {
        "id": "MBxZyCx-QQHi"
      },
      "source": [
        ""
      ]
    },
    {
      "cell_type": "markdown",
      "metadata": {
        "id": "Ou8UcO9hQIX9"
      },
      "source": [
        "**3. How did you estimate your expected end-effector forces**\r\n"
      ]
    },
    {
      "cell_type": "markdown",
      "metadata": {
        "id": "Qz1nuua5QQn3"
      },
      "source": [
        ""
      ]
    },
    {
      "cell_type": "markdown",
      "metadata": {
        "id": "ApyPMG9-QN75"
      },
      "source": [
        "**4. How did you estimate your expected end-effector speeds**"
      ]
    },
    {
      "cell_type": "markdown",
      "metadata": {
        "id": "R_z9TPMNQSk9"
      },
      "source": [
        ""
      ]
    }
  ]
}